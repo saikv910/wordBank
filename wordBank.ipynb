{
 "cells": [
  {
   "cell_type": "code",
   "execution_count": null,
   "id": "04c4c20d-c7a0-48de-a0a0-29d44141436a",
   "metadata": {},
   "outputs": [
    {
     "name": "stdout",
     "output_type": "stream",
     "text": [
      "Task: Given is the name opf one of the state in India. Find the state. BEST OF LUCK!\n",
      "Hint: The word has 10 characters.\n",
      "You have 20 chances remaining.\n",
      "The word is: _ _ _ _ _ _ _ _ _ _ \n",
      "Letters guessed: []\n"
     ]
    }
   ],
   "source": [
    "import random\n",
    "\n",
    "def read_words_from_file(filename):\n",
    "    try:\n",
    "        with open(filename, 'r') as file:\n",
    "            content = file.read()\n",
    "            word_list = content.split()\n",
    "            return word_list\n",
    "    except FileNotFoundError:\n",
    "        print(f\"File '{filename}' not found.\")\n",
    "        return []\n",
    "\n",
    "def choose_random_word(word_list):\n",
    "    if word_list:\n",
    "        random_word = random.choice(word_list)\n",
    "        return random_word.lower()\n",
    "    else:\n",
    "        print(\"No words available.\")\n",
    "        return None\n",
    "\n",
    "def guess_word(word, word_think):\n",
    "    guessed_word = \"\"\n",
    "    for char in word:\n",
    "        if char in word_think:\n",
    "            guessed_word += char\n",
    "        else:\n",
    "            guessed_word += \"_ \"\n",
    "    return guessed_word\n",
    "\n",
    "def collect_alph(word):\n",
    "    char_guess = []\n",
    "    total_chances = int(len(word) * 2)\n",
    "    print(f\"Hint: The word has {len(word)} characters.\")\n",
    "\n",
    "    while total_chances > 0:\n",
    "        print(f\"You have {total_chances} chances remaining.\")\n",
    "        print(\"The word is: \" + guess_word(word, char_guess))\n",
    "        print(\"Letters guessed: \" + str(char_guess))\n",
    "        guessed = input(\"Guess a letter: \").lower()[0]\n",
    "\n",
    "        if guessed not in char_guess:\n",
    "            char_guess.append(guessed)\n",
    "\n",
    "        if guess_word(word, char_guess) == word:\n",
    "            print(\"Correct Answer!\")\n",
    "            break\n",
    "        else:\n",
    "            total_chances -= 1\n",
    "            if guessed in word:\n",
    "                print(\"You've entered the correct character!\")\n",
    "            else:\n",
    "                print(guessed + \" is not the correct letter.\")\n",
    "    else:\n",
    "        print(\"Out of chances. The correct word was:\", word)\n",
    "\n",
    "def main():\n",
    "    print(\"Task: Given is the name opf one of the state in India. Find the state. BEST OF LUCK!\")\n",
    "    filename = 'words.txt'\n",
    "    words = read_words_from_file(filename)\n",
    "    if words:\n",
    "        random_word = choose_random_word(words)\n",
    "        if random_word:\n",
    "            collect_alph(random_word)\n",
    "    else:\n",
    "        print(\"No words found in the file.\")\n",
    "\n",
    "if __name__ == \"__main__\":\n",
    "    main()\n"
   ]
  },
  {
   "cell_type": "code",
   "execution_count": null,
   "id": "c9788fd5-9804-47a2-a375-d3c1db15bf47",
   "metadata": {},
   "outputs": [],
   "source": []
  }
 ],
 "metadata": {
  "kernelspec": {
   "display_name": "Python 3 (ipykernel)",
   "language": "python",
   "name": "python3"
  },
  "language_info": {
   "codemirror_mode": {
    "name": "ipython",
    "version": 3
   },
   "file_extension": ".py",
   "mimetype": "text/x-python",
   "name": "python",
   "nbconvert_exporter": "python",
   "pygments_lexer": "ipython3",
   "version": "3.12.3"
  }
 },
 "nbformat": 4,
 "nbformat_minor": 5
}
